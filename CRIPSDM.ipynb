{
  "nbformat": 4,
  "nbformat_minor": 0,
  "metadata": {
    "colab": {
      "provenance": [],
      "authorship_tag": "ABX9TyMXxAtdNHSmmhLg+RhSxxUu",
      "include_colab_link": true
    },
    "kernelspec": {
      "name": "python3",
      "display_name": "Python 3"
    },
    "language_info": {
      "name": "python"
    }
  },
  "cells": [
    {
      "cell_type": "markdown",
      "metadata": {
        "id": "view-in-github",
        "colab_type": "text"
      },
      "source": [
        "<a href=\"https://colab.research.google.com/github/marcusnmiranda/EAD/blob/main/CRIPSDM.ipynb\" target=\"_parent\"><img src=\"https://colab.research.google.com/assets/colab-badge.svg\" alt=\"Open In Colab\"/></a>"
      ]
    },
    {
      "cell_type": "markdown",
      "source": [
        "# Metodologia CRISP-DM (Cross Industry Standard Process for Data Mining)\n",
        "\n",
        "A metodologia CRISP-DM é um padrão amplamente utilizado para projetos de mineração de dados, oferecendo uma abordagem estruturada para planejar e executar projetos de análise de dados. Ela é composta por seis etapas principais:\n",
        "\n",
        "1. Compreensão do Negócio\n",
        "2. Compreensão dos Dados\n",
        "3. Preparação dos Dados\n",
        "4. Modelagem\n",
        "5. Avaliação\n",
        "6. Implantação"
      ],
      "metadata": {
        "id": "Vr-y3xxcjKQZ"
      }
    },
    {
      "cell_type": "markdown",
      "source": [
        "# 1. Compreensão do Negócio\n",
        "**Objetivo**\n",
        "Entender os objetivos e requisitos do negócio. No nosso caso, o objetivo é criar um dataset de projetos fictícios e treinar um modelo preditivo para prever o Tempo de Projeto com base nas outras variáveis.\n",
        "\n",
        "**Importância**\n",
        "Compreender o negócio é crucial para garantir que o projeto de mineração de dados esteja alinhado com as necessidades e objetivos organizacionais. Sem essa compreensão, os esforços podem ser mal direcionados, resultando em análises que não agregam valor."
      ],
      "metadata": {
        "id": "X95QeYxvjSyl"
      }
    },
    {
      "cell_type": "markdown",
      "source": [
        "# 2. Compreensão dos Dados\n",
        "**Objetivo**\n",
        "Identificar as fontes de dados e compreender os dados disponíveis. Vamos definir as variáveis que comporão o dataset.\n",
        "\n",
        "**Definição das Variáveis**\n",
        "* Tempo de Projeto: Número de dias para completar o projeto.\n",
        "* Quantidade de Atividades: Número de atividades ou tarefas no projeto.\n",
        "* Quantidade de Pessoas: Número de pessoas envolvidas no projeto.\n",
        "* Orçamento: Orçamento do projeto em dólares.\n",
        "* Riscos: Classificação dos riscos em três categorias: Baixo, Médio, Alto.\n",
        "* Segmento do Cliente: Segmento do cliente em cinco categorias: Tecnologia, Saúde, Financeiro, Educação, Varejo.\n",
        "* Cliente Internacional: Se o cliente é internacional ou não (Sim/Não).\n",
        "* Tecnologia Envolvida: Tipo de tecnologia envolvida em cinco categorias: IA, Big Data, Cloud, IoT, Blockchain.\n",
        "* Quantidade de Mudanças: Número de mudanças ocorridas durante o projeto.\n",
        "* Satisfação do Cliente: Índice de satisfação do cliente em uma escala de 1 a 10.\n",
        "\n",
        "**Importância**\n",
        "Compreender os dados ajuda a identificar problemas de qualidade, entender a estrutura e verificar se os dados disponíveis são suficientes para atender aos objetivos do negócio."
      ],
      "metadata": {
        "id": "izdcydCFjZTJ"
      }
    },
    {
      "cell_type": "markdown",
      "source": [
        "# 3. Preparação dos Dados\n",
        "**Objetivo**\n",
        "Preparar os dados para a análise ou modelagem. Isso envolve limpeza, transformação e, no nosso caso, geração de dados sintéticos.\n",
        "\n",
        "**Geração do Dataset**\n",
        "Vamos gerar um dataset fictício com 1000 registros."
      ],
      "metadata": {
        "id": "MSSrglpWjoEk"
      }
    },
    {
      "cell_type": "code",
      "source": [
        "import pandas as pd\n",
        "import numpy as np\n",
        "\n",
        "# Definindo o número de registros\n",
        "num_records = 1000\n",
        "\n",
        "# Gerando dados fictícios\n",
        "np.random.seed(42)  # Para reprodutibilidade\n",
        "\n",
        "tempo_projeto = np.random.randint(30, 365, num_records)\n",
        "quantidade_atividades = np.random.randint(5, 50, num_records)\n",
        "quantidade_pessoas = np.random.randint(3, 20, num_records)\n",
        "orcamento = np.random.randint(10000, 1000000, num_records)\n",
        "riscos = np.random.choice(['Baixo', 'Médio', 'Alto'], num_records)\n",
        "segmento_cliente = np.random.choice(['Tecnologia', 'Saúde', 'Financeiro', 'Educação', 'Varejo'], num_records)\n",
        "cliente_internacional = np.random.choice(['Sim', 'Não'], num_records)\n",
        "tecnologia_envolvida = np.random.choice(['IA', 'Big Data', 'Cloud', 'IoT', 'Blockchain'], num_records)\n",
        "quantidade_mudancas = np.random.randint(0, 15, num_records)\n",
        "satisfacao_cliente = np.random.randint(1, 11, num_records)\n",
        "\n",
        "# Criando o DataFrame\n",
        "df = pd.DataFrame({\n",
        "    'Tempo de Projeto': tempo_projeto,\n",
        "    'Quantidade de Atividades': quantidade_atividades,\n",
        "    'Quantidade de Pessoas': quantidade_pessoas,\n",
        "    'Orçamento': orcamento,\n",
        "    'Riscos': riscos,\n",
        "    'Segmento do Cliente': segmento_cliente,\n",
        "    'Cliente Internacional': cliente_internacional,\n",
        "    'Tecnologia Envolvida': tecnologia_envolvida,\n",
        "    'Quantidade de Mudanças': quantidade_mudancas,\n",
        "    'Satisfação do Cliente': satisfacao_cliente\n",
        "})\n",
        "\n",
        "# Visualizando as primeiras linhas do dataset\n",
        "df.head()\n"
      ],
      "metadata": {
        "colab": {
          "base_uri": "https://localhost:8080/",
          "height": 206
        },
        "id": "hnVSvScnjssb",
        "outputId": "b88eaadd-1015-451f-f6d0-73290a0b0d00"
      },
      "execution_count": 1,
      "outputs": [
        {
          "output_type": "execute_result",
          "data": {
            "text/plain": [
              "   Tempo de Projeto  Quantidade de Atividades  Quantidade de Pessoas  \\\n",
              "0               132                         6                     15   \n",
              "1               300                        14                     11   \n",
              "2               136                         9                     15   \n",
              "3               101                        14                     13   \n",
              "4               218                        37                      3   \n",
              "\n",
              "   Orçamento Riscos Segmento do Cliente Cliente Internacional  \\\n",
              "0     742722  Baixo          Financeiro                   Não   \n",
              "1     691777   Alto               Saúde                   Sim   \n",
              "2     946197  Baixo          Financeiro                   Não   \n",
              "3     482890   Alto          Financeiro                   Não   \n",
              "4     393100  Baixo            Educação                   Sim   \n",
              "\n",
              "  Tecnologia Envolvida  Quantidade de Mudanças  Satisfação do Cliente  \n",
              "0                  IoT                       6                      7  \n",
              "1             Big Data                       0                      2  \n",
              "2                Cloud                       9                     10  \n",
              "3                  IoT                       0                      3  \n",
              "4                Cloud                       4                     10  "
            ],
            "text/html": [
              "\n",
              "  <div id=\"df-4593e006-987c-4207-9afe-e597c36a8435\" class=\"colab-df-container\">\n",
              "    <div>\n",
              "<style scoped>\n",
              "    .dataframe tbody tr th:only-of-type {\n",
              "        vertical-align: middle;\n",
              "    }\n",
              "\n",
              "    .dataframe tbody tr th {\n",
              "        vertical-align: top;\n",
              "    }\n",
              "\n",
              "    .dataframe thead th {\n",
              "        text-align: right;\n",
              "    }\n",
              "</style>\n",
              "<table border=\"1\" class=\"dataframe\">\n",
              "  <thead>\n",
              "    <tr style=\"text-align: right;\">\n",
              "      <th></th>\n",
              "      <th>Tempo de Projeto</th>\n",
              "      <th>Quantidade de Atividades</th>\n",
              "      <th>Quantidade de Pessoas</th>\n",
              "      <th>Orçamento</th>\n",
              "      <th>Riscos</th>\n",
              "      <th>Segmento do Cliente</th>\n",
              "      <th>Cliente Internacional</th>\n",
              "      <th>Tecnologia Envolvida</th>\n",
              "      <th>Quantidade de Mudanças</th>\n",
              "      <th>Satisfação do Cliente</th>\n",
              "    </tr>\n",
              "  </thead>\n",
              "  <tbody>\n",
              "    <tr>\n",
              "      <th>0</th>\n",
              "      <td>132</td>\n",
              "      <td>6</td>\n",
              "      <td>15</td>\n",
              "      <td>742722</td>\n",
              "      <td>Baixo</td>\n",
              "      <td>Financeiro</td>\n",
              "      <td>Não</td>\n",
              "      <td>IoT</td>\n",
              "      <td>6</td>\n",
              "      <td>7</td>\n",
              "    </tr>\n",
              "    <tr>\n",
              "      <th>1</th>\n",
              "      <td>300</td>\n",
              "      <td>14</td>\n",
              "      <td>11</td>\n",
              "      <td>691777</td>\n",
              "      <td>Alto</td>\n",
              "      <td>Saúde</td>\n",
              "      <td>Sim</td>\n",
              "      <td>Big Data</td>\n",
              "      <td>0</td>\n",
              "      <td>2</td>\n",
              "    </tr>\n",
              "    <tr>\n",
              "      <th>2</th>\n",
              "      <td>136</td>\n",
              "      <td>9</td>\n",
              "      <td>15</td>\n",
              "      <td>946197</td>\n",
              "      <td>Baixo</td>\n",
              "      <td>Financeiro</td>\n",
              "      <td>Não</td>\n",
              "      <td>Cloud</td>\n",
              "      <td>9</td>\n",
              "      <td>10</td>\n",
              "    </tr>\n",
              "    <tr>\n",
              "      <th>3</th>\n",
              "      <td>101</td>\n",
              "      <td>14</td>\n",
              "      <td>13</td>\n",
              "      <td>482890</td>\n",
              "      <td>Alto</td>\n",
              "      <td>Financeiro</td>\n",
              "      <td>Não</td>\n",
              "      <td>IoT</td>\n",
              "      <td>0</td>\n",
              "      <td>3</td>\n",
              "    </tr>\n",
              "    <tr>\n",
              "      <th>4</th>\n",
              "      <td>218</td>\n",
              "      <td>37</td>\n",
              "      <td>3</td>\n",
              "      <td>393100</td>\n",
              "      <td>Baixo</td>\n",
              "      <td>Educação</td>\n",
              "      <td>Sim</td>\n",
              "      <td>Cloud</td>\n",
              "      <td>4</td>\n",
              "      <td>10</td>\n",
              "    </tr>\n",
              "  </tbody>\n",
              "</table>\n",
              "</div>\n",
              "    <div class=\"colab-df-buttons\">\n",
              "\n",
              "  <div class=\"colab-df-container\">\n",
              "    <button class=\"colab-df-convert\" onclick=\"convertToInteractive('df-4593e006-987c-4207-9afe-e597c36a8435')\"\n",
              "            title=\"Convert this dataframe to an interactive table.\"\n",
              "            style=\"display:none;\">\n",
              "\n",
              "  <svg xmlns=\"http://www.w3.org/2000/svg\" height=\"24px\" viewBox=\"0 -960 960 960\">\n",
              "    <path d=\"M120-120v-720h720v720H120Zm60-500h600v-160H180v160Zm220 220h160v-160H400v160Zm0 220h160v-160H400v160ZM180-400h160v-160H180v160Zm440 0h160v-160H620v160ZM180-180h160v-160H180v160Zm440 0h160v-160H620v160Z\"/>\n",
              "  </svg>\n",
              "    </button>\n",
              "\n",
              "  <style>\n",
              "    .colab-df-container {\n",
              "      display:flex;\n",
              "      gap: 12px;\n",
              "    }\n",
              "\n",
              "    .colab-df-convert {\n",
              "      background-color: #E8F0FE;\n",
              "      border: none;\n",
              "      border-radius: 50%;\n",
              "      cursor: pointer;\n",
              "      display: none;\n",
              "      fill: #1967D2;\n",
              "      height: 32px;\n",
              "      padding: 0 0 0 0;\n",
              "      width: 32px;\n",
              "    }\n",
              "\n",
              "    .colab-df-convert:hover {\n",
              "      background-color: #E2EBFA;\n",
              "      box-shadow: 0px 1px 2px rgba(60, 64, 67, 0.3), 0px 1px 3px 1px rgba(60, 64, 67, 0.15);\n",
              "      fill: #174EA6;\n",
              "    }\n",
              "\n",
              "    .colab-df-buttons div {\n",
              "      margin-bottom: 4px;\n",
              "    }\n",
              "\n",
              "    [theme=dark] .colab-df-convert {\n",
              "      background-color: #3B4455;\n",
              "      fill: #D2E3FC;\n",
              "    }\n",
              "\n",
              "    [theme=dark] .colab-df-convert:hover {\n",
              "      background-color: #434B5C;\n",
              "      box-shadow: 0px 1px 3px 1px rgba(0, 0, 0, 0.15);\n",
              "      filter: drop-shadow(0px 1px 2px rgba(0, 0, 0, 0.3));\n",
              "      fill: #FFFFFF;\n",
              "    }\n",
              "  </style>\n",
              "\n",
              "    <script>\n",
              "      const buttonEl =\n",
              "        document.querySelector('#df-4593e006-987c-4207-9afe-e597c36a8435 button.colab-df-convert');\n",
              "      buttonEl.style.display =\n",
              "        google.colab.kernel.accessAllowed ? 'block' : 'none';\n",
              "\n",
              "      async function convertToInteractive(key) {\n",
              "        const element = document.querySelector('#df-4593e006-987c-4207-9afe-e597c36a8435');\n",
              "        const dataTable =\n",
              "          await google.colab.kernel.invokeFunction('convertToInteractive',\n",
              "                                                    [key], {});\n",
              "        if (!dataTable) return;\n",
              "\n",
              "        const docLinkHtml = 'Like what you see? Visit the ' +\n",
              "          '<a target=\"_blank\" href=https://colab.research.google.com/notebooks/data_table.ipynb>data table notebook</a>'\n",
              "          + ' to learn more about interactive tables.';\n",
              "        element.innerHTML = '';\n",
              "        dataTable['output_type'] = 'display_data';\n",
              "        await google.colab.output.renderOutput(dataTable, element);\n",
              "        const docLink = document.createElement('div');\n",
              "        docLink.innerHTML = docLinkHtml;\n",
              "        element.appendChild(docLink);\n",
              "      }\n",
              "    </script>\n",
              "  </div>\n",
              "\n",
              "\n",
              "<div id=\"df-ab67887a-8d0e-44f7-a552-948f3b8ae4a1\">\n",
              "  <button class=\"colab-df-quickchart\" onclick=\"quickchart('df-ab67887a-8d0e-44f7-a552-948f3b8ae4a1')\"\n",
              "            title=\"Suggest charts\"\n",
              "            style=\"display:none;\">\n",
              "\n",
              "<svg xmlns=\"http://www.w3.org/2000/svg\" height=\"24px\"viewBox=\"0 0 24 24\"\n",
              "     width=\"24px\">\n",
              "    <g>\n",
              "        <path d=\"M19 3H5c-1.1 0-2 .9-2 2v14c0 1.1.9 2 2 2h14c1.1 0 2-.9 2-2V5c0-1.1-.9-2-2-2zM9 17H7v-7h2v7zm4 0h-2V7h2v10zm4 0h-2v-4h2v4z\"/>\n",
              "    </g>\n",
              "</svg>\n",
              "  </button>\n",
              "\n",
              "<style>\n",
              "  .colab-df-quickchart {\n",
              "      --bg-color: #E8F0FE;\n",
              "      --fill-color: #1967D2;\n",
              "      --hover-bg-color: #E2EBFA;\n",
              "      --hover-fill-color: #174EA6;\n",
              "      --disabled-fill-color: #AAA;\n",
              "      --disabled-bg-color: #DDD;\n",
              "  }\n",
              "\n",
              "  [theme=dark] .colab-df-quickchart {\n",
              "      --bg-color: #3B4455;\n",
              "      --fill-color: #D2E3FC;\n",
              "      --hover-bg-color: #434B5C;\n",
              "      --hover-fill-color: #FFFFFF;\n",
              "      --disabled-bg-color: #3B4455;\n",
              "      --disabled-fill-color: #666;\n",
              "  }\n",
              "\n",
              "  .colab-df-quickchart {\n",
              "    background-color: var(--bg-color);\n",
              "    border: none;\n",
              "    border-radius: 50%;\n",
              "    cursor: pointer;\n",
              "    display: none;\n",
              "    fill: var(--fill-color);\n",
              "    height: 32px;\n",
              "    padding: 0;\n",
              "    width: 32px;\n",
              "  }\n",
              "\n",
              "  .colab-df-quickchart:hover {\n",
              "    background-color: var(--hover-bg-color);\n",
              "    box-shadow: 0 1px 2px rgba(60, 64, 67, 0.3), 0 1px 3px 1px rgba(60, 64, 67, 0.15);\n",
              "    fill: var(--button-hover-fill-color);\n",
              "  }\n",
              "\n",
              "  .colab-df-quickchart-complete:disabled,\n",
              "  .colab-df-quickchart-complete:disabled:hover {\n",
              "    background-color: var(--disabled-bg-color);\n",
              "    fill: var(--disabled-fill-color);\n",
              "    box-shadow: none;\n",
              "  }\n",
              "\n",
              "  .colab-df-spinner {\n",
              "    border: 2px solid var(--fill-color);\n",
              "    border-color: transparent;\n",
              "    border-bottom-color: var(--fill-color);\n",
              "    animation:\n",
              "      spin 1s steps(1) infinite;\n",
              "  }\n",
              "\n",
              "  @keyframes spin {\n",
              "    0% {\n",
              "      border-color: transparent;\n",
              "      border-bottom-color: var(--fill-color);\n",
              "      border-left-color: var(--fill-color);\n",
              "    }\n",
              "    20% {\n",
              "      border-color: transparent;\n",
              "      border-left-color: var(--fill-color);\n",
              "      border-top-color: var(--fill-color);\n",
              "    }\n",
              "    30% {\n",
              "      border-color: transparent;\n",
              "      border-left-color: var(--fill-color);\n",
              "      border-top-color: var(--fill-color);\n",
              "      border-right-color: var(--fill-color);\n",
              "    }\n",
              "    40% {\n",
              "      border-color: transparent;\n",
              "      border-right-color: var(--fill-color);\n",
              "      border-top-color: var(--fill-color);\n",
              "    }\n",
              "    60% {\n",
              "      border-color: transparent;\n",
              "      border-right-color: var(--fill-color);\n",
              "    }\n",
              "    80% {\n",
              "      border-color: transparent;\n",
              "      border-right-color: var(--fill-color);\n",
              "      border-bottom-color: var(--fill-color);\n",
              "    }\n",
              "    90% {\n",
              "      border-color: transparent;\n",
              "      border-bottom-color: var(--fill-color);\n",
              "    }\n",
              "  }\n",
              "</style>\n",
              "\n",
              "  <script>\n",
              "    async function quickchart(key) {\n",
              "      const quickchartButtonEl =\n",
              "        document.querySelector('#' + key + ' button');\n",
              "      quickchartButtonEl.disabled = true;  // To prevent multiple clicks.\n",
              "      quickchartButtonEl.classList.add('colab-df-spinner');\n",
              "      try {\n",
              "        const charts = await google.colab.kernel.invokeFunction(\n",
              "            'suggestCharts', [key], {});\n",
              "      } catch (error) {\n",
              "        console.error('Error during call to suggestCharts:', error);\n",
              "      }\n",
              "      quickchartButtonEl.classList.remove('colab-df-spinner');\n",
              "      quickchartButtonEl.classList.add('colab-df-quickchart-complete');\n",
              "    }\n",
              "    (() => {\n",
              "      let quickchartButtonEl =\n",
              "        document.querySelector('#df-ab67887a-8d0e-44f7-a552-948f3b8ae4a1 button');\n",
              "      quickchartButtonEl.style.display =\n",
              "        google.colab.kernel.accessAllowed ? 'block' : 'none';\n",
              "    })();\n",
              "  </script>\n",
              "</div>\n",
              "\n",
              "    </div>\n",
              "  </div>\n"
            ],
            "application/vnd.google.colaboratory.intrinsic+json": {
              "type": "dataframe",
              "variable_name": "df",
              "summary": "{\n  \"name\": \"df\",\n  \"rows\": 1000,\n  \"fields\": [\n    {\n      \"column\": \"Tempo de Projeto\",\n      \"properties\": {\n        \"dtype\": \"number\",\n        \"std\": 95,\n        \"min\": 30,\n        \"max\": 364,\n        \"num_unique_values\": 310,\n        \"samples\": [\n          112,\n          117,\n          247\n        ],\n        \"semantic_type\": \"\",\n        \"description\": \"\"\n      }\n    },\n    {\n      \"column\": \"Quantidade de Atividades\",\n      \"properties\": {\n        \"dtype\": \"number\",\n        \"std\": 12,\n        \"min\": 5,\n        \"max\": 49,\n        \"num_unique_values\": 45,\n        \"samples\": [\n          36,\n          48,\n          41\n        ],\n        \"semantic_type\": \"\",\n        \"description\": \"\"\n      }\n    },\n    {\n      \"column\": \"Quantidade de Pessoas\",\n      \"properties\": {\n        \"dtype\": \"number\",\n        \"std\": 4,\n        \"min\": 3,\n        \"max\": 19,\n        \"num_unique_values\": 17,\n        \"samples\": [\n          15,\n          11,\n          17\n        ],\n        \"semantic_type\": \"\",\n        \"description\": \"\"\n      }\n    },\n    {\n      \"column\": \"Or\\u00e7amento\",\n      \"properties\": {\n        \"dtype\": \"number\",\n        \"std\": 285655,\n        \"min\": 10159,\n        \"max\": 998406,\n        \"num_unique_values\": 1000,\n        \"samples\": [\n          22828,\n          60081,\n          226204\n        ],\n        \"semantic_type\": \"\",\n        \"description\": \"\"\n      }\n    },\n    {\n      \"column\": \"Riscos\",\n      \"properties\": {\n        \"dtype\": \"category\",\n        \"num_unique_values\": 3,\n        \"samples\": [\n          \"Baixo\",\n          \"Alto\",\n          \"M\\u00e9dio\"\n        ],\n        \"semantic_type\": \"\",\n        \"description\": \"\"\n      }\n    },\n    {\n      \"column\": \"Segmento do Cliente\",\n      \"properties\": {\n        \"dtype\": \"category\",\n        \"num_unique_values\": 5,\n        \"samples\": [\n          \"Sa\\u00fade\",\n          \"Varejo\",\n          \"Educa\\u00e7\\u00e3o\"\n        ],\n        \"semantic_type\": \"\",\n        \"description\": \"\"\n      }\n    },\n    {\n      \"column\": \"Cliente Internacional\",\n      \"properties\": {\n        \"dtype\": \"category\",\n        \"num_unique_values\": 2,\n        \"samples\": [\n          \"Sim\",\n          \"N\\u00e3o\"\n        ],\n        \"semantic_type\": \"\",\n        \"description\": \"\"\n      }\n    },\n    {\n      \"column\": \"Tecnologia Envolvida\",\n      \"properties\": {\n        \"dtype\": \"category\",\n        \"num_unique_values\": 5,\n        \"samples\": [\n          \"Big Data\",\n          \"Blockchain\"\n        ],\n        \"semantic_type\": \"\",\n        \"description\": \"\"\n      }\n    },\n    {\n      \"column\": \"Quantidade de Mudan\\u00e7as\",\n      \"properties\": {\n        \"dtype\": \"number\",\n        \"std\": 4,\n        \"min\": 0,\n        \"max\": 14,\n        \"num_unique_values\": 15,\n        \"samples\": [\n          12,\n          2\n        ],\n        \"semantic_type\": \"\",\n        \"description\": \"\"\n      }\n    },\n    {\n      \"column\": \"Satisfa\\u00e7\\u00e3o do Cliente\",\n      \"properties\": {\n        \"dtype\": \"number\",\n        \"std\": 2,\n        \"min\": 1,\n        \"max\": 10,\n        \"num_unique_values\": 10,\n        \"samples\": [\n          1,\n          2\n        ],\n        \"semantic_type\": \"\",\n        \"description\": \"\"\n      }\n    }\n  ]\n}"
            }
          },
          "metadata": {},
          "execution_count": 1
        }
      ]
    },
    {
      "cell_type": "markdown",
      "source": [
        "**Importância**\n",
        "A preparação dos dados é fundamental para garantir que os dados sejam de alta qualidade e estejam prontos para análises ou modelagem. Dados mal preparados podem levar a resultados enganosos ou modelos de baixa performance."
      ],
      "metadata": {
        "id": "UqDNFj7Yj4Cj"
      }
    },
    {
      "cell_type": "markdown",
      "source": [
        "# 4. Modelagem\n",
        "**Objetivo**\n",
        "Treinar um modelo preditivo para prever o Tempo de Projeto.\n",
        "\n",
        "**Treinamento do Modelo**\n",
        "Vamos usar a biblioteca scikit-learn para treinar um modelo de regressão linear."
      ],
      "metadata": {
        "id": "n_ebwam9j5H6"
      }
    },
    {
      "cell_type": "code",
      "source": [
        "from sklearn.model_selection import train_test_split\n",
        "from sklearn.linear_model import LinearRegression\n",
        "import joblib\n",
        "\n",
        "# Separando as variáveis independentes (features) e a variável dependente (target)\n",
        "X = df.drop('Tempo de Projeto', axis=1)\n",
        "y = df['Tempo de Projeto']\n",
        "\n",
        "# Convertendo variáveis categóricas em variáveis dummy\n",
        "X = pd.get_dummies(X, drop_first=True)\n",
        "\n",
        "# Dividindo os dados em conjuntos de treino e teste\n",
        "X_train, X_test, y_train, y_test = train_test_split(X, y, test_size=0.3, random_state=42)\n",
        "\n",
        "# Treinando o modelo de regressão linear\n",
        "modelo = LinearRegression()\n",
        "modelo.fit(X_train, y_train)\n",
        "\n",
        "# Avaliando o modelo\n",
        "score = modelo.score(X_test, y_test)\n",
        "print(f\"R^2 score do modelo: {score}\")\n",
        "\n",
        "# Salvando o modelo treinado\n",
        "joblib.dump(modelo, 'modelo_tempo_projeto.pkl')\n"
      ],
      "metadata": {
        "colab": {
          "base_uri": "https://localhost:8080/"
        },
        "id": "ObNd2mFVj_K2",
        "outputId": "5e566e0f-c74a-4864-8c81-42860e44daff"
      },
      "execution_count": 2,
      "outputs": [
        {
          "output_type": "stream",
          "name": "stdout",
          "text": [
            "R^2 score do modelo: -0.027983850992817638\n"
          ]
        },
        {
          "output_type": "execute_result",
          "data": {
            "text/plain": [
              "['modelo_tempo_projeto.pkl']"
            ]
          },
          "metadata": {},
          "execution_count": 2
        }
      ]
    },
    {
      "cell_type": "markdown",
      "source": [
        "**Importância**\n",
        "Treinar o modelo permite transformar dados em previsões acionáveis, ajudando a entender e antecipar o tempo necessário para completar projetos com base nas características do projeto"
      ],
      "metadata": {
        "id": "03XnbnxukDBU"
      }
    },
    {
      "cell_type": "markdown",
      "source": [
        "# 5. Avaliação\n",
        "**Objetivo**\n",
        "Avaliar a qualidade do modelo treinado para garantir que ele atenda aos requisitos do negócio.\n",
        "\n",
        "**Avaliação do Modelo**\n",
        "Vamos avaliar o modelo usando o R^2 score, que indica a proporção da variância da variável dependente que é previsível a partir das variáveis independentes."
      ],
      "metadata": {
        "id": "y28HzB37kENk"
      }
    },
    {
      "cell_type": "code",
      "source": [
        "# Avaliando o modelo\n",
        "score = modelo.score(X_test, y_test)\n",
        "print(f\"R^2 score do modelo: {score}\")\n"
      ],
      "metadata": {
        "colab": {
          "base_uri": "https://localhost:8080/"
        },
        "id": "P_Bflt0-kKRM",
        "outputId": "19da75cf-110b-4548-fefb-7fcd4536cd2f"
      },
      "execution_count": 3,
      "outputs": [
        {
          "output_type": "stream",
          "name": "stdout",
          "text": [
            "R^2 score do modelo: -0.027983850992817638\n"
          ]
        }
      ]
    },
    {
      "cell_type": "markdown",
      "source": [
        "**Importância**\n",
        "A avaliação garante que os resultados são válidos, confiáveis e úteis para o negócio. Ajuda a identificar quaisquer problemas ou ajustes necessários antes da implementação final."
      ],
      "metadata": {
        "id": "bAHCCNnCkM_O"
      }
    },
    {
      "cell_type": "markdown",
      "source": [
        "# 6. Implantação\n",
        "**Objetivo**\n",
        "Implantar o modelo e criar uma função para realizar predições com novos dados.\n",
        "\n",
        "**Função de Predição**\n",
        "Vamos criar uma função que carrega o modelo treinado e realiza predições com novos dados."
      ],
      "metadata": {
        "id": "EVcUABWDkOse"
      }
    },
    {
      "cell_type": "code",
      "source": [
        "import joblib\n",
        "\n",
        "# Função para carregar o modelo e realizar predições\n",
        "def prever_tempo_projeto(novos_dados):\n",
        "    # Carregando o modelo\n",
        "    modelo = joblib.load('modelo_tempo_projeto.pkl')\n",
        "\n",
        "    # Convertendo os novos dados para DataFrame e gerando variáveis dummy\n",
        "    novos_dados_df = pd.DataFrame([novos_dados])\n",
        "    novos_dados_df = pd.get_dummies(novos_dados_df, drop_first=True)\n",
        "\n",
        "    # Garantindo que o DataFrame tenha as mesmas colunas que o conjunto de treino\n",
        "    for col in X.columns:\n",
        "        if col not in novos_dados_df.columns:\n",
        "            novos_dados_df[col] = 0\n",
        "\n",
        "    # Ordenando as colunas para corresponder ao modelo\n",
        "    novos_dados_df = novos_dados_df[X.columns]\n",
        "\n",
        "    # Realizando a predição\n",
        "    predicao = modelo.predict(novos_dados_df)\n",
        "    return predicao[0]\n",
        "\n",
        "# Exemplo de uso da função de predição\n",
        "novo_projeto = {\n",
        "    'Quantidade de Atividades': 20,\n",
        "    'Quantidade de Pessoas': 10,\n",
        "    'Orçamento': 500000,\n",
        "    'Riscos': 'Médio',\n",
        "    'Segmento do Cliente': 'Tecnologia',\n",
        "    'Cliente Internacional': 'Sim',\n",
        "    'Tecnologia Envolvida': 'IA',\n",
        "    'Quantidade de Mudanças': 3,\n",
        "    'Satisfação do Cliente': 8\n",
        "}\n",
        "\n",
        "tempo_previsto = prever_tempo_projeto(novo_projeto)\n",
        "print(f\"Tempo previsto para o novo projeto: {tempo_previsto} dias\")\n"
      ],
      "metadata": {
        "colab": {
          "base_uri": "https://localhost:8080/"
        },
        "id": "BFD7d1d-kScS",
        "outputId": "a71f5e79-f608-4fb3-ffdb-fd8c40795bb7"
      },
      "execution_count": 4,
      "outputs": [
        {
          "output_type": "stream",
          "name": "stdout",
          "text": [
            "Tempo previsto para o novo projeto: 210.9106169623858 dias\n"
          ]
        }
      ]
    },
    {
      "cell_type": "markdown",
      "source": [
        "**Importância**\n",
        "A implantação do modelo permite utilizar os resultados da análise de dados em cenários reais, possibilitando predições que podem auxiliar na tomada de decisões."
      ],
      "metadata": {
        "id": "McqbwptekyoQ"
      }
    },
    {
      "cell_type": "markdown",
      "source": [
        "# Conclusão\n",
        "Seguindo a metodologia CRISP-DM, geramos um dataset de projetos fictícios, treinamos um modelo preditivo para prever o Tempo de Projeto e criamos uma função para realizar predições com novos dados. Esta abordagem estruturada garante que todas as etapas, desde a compreensão do negócio até a implantação, sejam realizadas de forma sistemática e eficaz."
      ],
      "metadata": {
        "id": "_wOBMgW1k0oJ"
      }
    }
  ]
}