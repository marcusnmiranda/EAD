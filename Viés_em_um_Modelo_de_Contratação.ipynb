{
  "nbformat": 4,
  "nbformat_minor": 0,
  "metadata": {
    "colab": {
      "provenance": [],
      "authorship_tag": "ABX9TyNYz0CVfV18oWA0h2OHP2WG",
      "include_colab_link": true
    },
    "kernelspec": {
      "name": "python3",
      "display_name": "Python 3"
    },
    "language_info": {
      "name": "python"
    }
  },
  "cells": [
    {
      "cell_type": "markdown",
      "metadata": {
        "id": "view-in-github",
        "colab_type": "text"
      },
      "source": [
        "<a href=\"https://colab.research.google.com/github/marcusnmiranda/EAD/blob/main/Vi%C3%A9s_em_um_Modelo_de_Contrata%C3%A7%C3%A3o.ipynb\" target=\"_parent\"><img src=\"https://colab.research.google.com/assets/colab-badge.svg\" alt=\"Open In Colab\"/></a>"
      ]
    },
    {
      "cell_type": "markdown",
      "source": [
        "# Viés em um Modelo de Contratação"
      ],
      "metadata": {
        "id": "9_L7_8EkdkQb"
      }
    },
    {
      "cell_type": "markdown",
      "source": [
        "## Passo 1: Preparação dos Dados\n",
        "Criamos um conjunto de dados fictício onde há um viés de contratação contra candidatos de uma determinada etnia."
      ],
      "metadata": {
        "id": "h-C6iQu-dnga"
      }
    },
    {
      "cell_type": "code",
      "execution_count": 1,
      "metadata": {
        "id": "faNHFua_decP"
      },
      "outputs": [],
      "source": [
        "import pandas as pd\n",
        "from sklearn.model_selection import train_test_split\n",
        "from sklearn.feature_extraction import DictVectorizer\n",
        "from sklearn.ensemble import RandomForestClassifier\n",
        "from sklearn.metrics import classification_report\n",
        "\n",
        "# Criação do conjunto de dados fictício com viés\n",
        "data = {\n",
        "    'nome': ['João', 'Emily', 'Xiao', 'Priya', 'Ahmed', 'Maria', 'Carlos', 'Liu', 'Sofia', 'Miguel'],\n",
        "    'etnia': ['branco', 'branco', 'asiático', 'indiano', 'árabe', 'hispânico', 'branco', 'asiático', 'hispânico', 'hispânico'],\n",
        "    'genero': ['masculino', 'feminino', 'masculino', 'feminino', 'masculino', 'feminino', 'masculino', 'feminino', 'feminino', 'masculino'],\n",
        "    'experiencia': [5, 7, 3, 8, 4, 6, 2, 7, 5, 4],\n",
        "    'educacao': ['bacharelado', 'mestrado', 'doutorado', 'mestrado', 'bacharelado', 'bacharelado', 'bacharelado', 'doutorado', 'mestrado', 'bacharelado'],\n",
        "    'contratado': ['sim', 'sim', 'não', 'sim', 'não', 'sim', 'não', 'não', 'sim', 'não']\n",
        "}\n",
        "\n",
        "df = pd.DataFrame(data)\n"
      ]
    },
    {
      "cell_type": "markdown",
      "source": [
        "# Passo 2: Preparação e Vetorização dos Dados\n",
        "Transformamos os dados categóricos em vetores numéricos."
      ],
      "metadata": {
        "id": "Pf_RyaAIdtgV"
      }
    },
    {
      "cell_type": "code",
      "source": [
        "# Separação dos dados em treinamento e teste\n",
        "X = df.drop('contratado', axis=1)\n",
        "y = df['contratado']\n",
        "X_train, X_test, y_train, y_test = train_test_split(X, y, test_size=0.3, random_state=42)\n",
        "\n",
        "# Vetorização dos dados\n",
        "vectorizer = DictVectorizer(sparse=False)\n",
        "X_train_vec = vectorizer.fit_transform(X_train.to_dict(orient='records'))\n",
        "X_test_vec = vectorizer.transform(X_test.to_dict(orient='records'))\n"
      ],
      "metadata": {
        "id": "yFg3B0y0duy4"
      },
      "execution_count": 2,
      "outputs": []
    },
    {
      "cell_type": "markdown",
      "source": [
        "# Passo 3: Treinamento do Modelo\n",
        "Treinamos um modelo de floresta aleatória (RandomForestClassifier) com os dados de treinamento."
      ],
      "metadata": {
        "id": "72WE0_-sdy6f"
      }
    },
    {
      "cell_type": "code",
      "source": [
        "# Treinamento do modelo\n",
        "model = RandomForestClassifier(random_state=42)\n",
        "model.fit(X_train_vec, y_train)\n"
      ],
      "metadata": {
        "colab": {
          "base_uri": "https://localhost:8080/",
          "height": 75
        },
        "id": "C7YRmL9Odzux",
        "outputId": "dd01fe3f-f401-461e-b33d-9eaa594570bb"
      },
      "execution_count": 3,
      "outputs": [
        {
          "output_type": "execute_result",
          "data": {
            "text/plain": [
              "RandomForestClassifier(random_state=42)"
            ],
            "text/html": [
              "<style>#sk-container-id-1 {color: black;background-color: white;}#sk-container-id-1 pre{padding: 0;}#sk-container-id-1 div.sk-toggleable {background-color: white;}#sk-container-id-1 label.sk-toggleable__label {cursor: pointer;display: block;width: 100%;margin-bottom: 0;padding: 0.3em;box-sizing: border-box;text-align: center;}#sk-container-id-1 label.sk-toggleable__label-arrow:before {content: \"▸\";float: left;margin-right: 0.25em;color: #696969;}#sk-container-id-1 label.sk-toggleable__label-arrow:hover:before {color: black;}#sk-container-id-1 div.sk-estimator:hover label.sk-toggleable__label-arrow:before {color: black;}#sk-container-id-1 div.sk-toggleable__content {max-height: 0;max-width: 0;overflow: hidden;text-align: left;background-color: #f0f8ff;}#sk-container-id-1 div.sk-toggleable__content pre {margin: 0.2em;color: black;border-radius: 0.25em;background-color: #f0f8ff;}#sk-container-id-1 input.sk-toggleable__control:checked~div.sk-toggleable__content {max-height: 200px;max-width: 100%;overflow: auto;}#sk-container-id-1 input.sk-toggleable__control:checked~label.sk-toggleable__label-arrow:before {content: \"▾\";}#sk-container-id-1 div.sk-estimator input.sk-toggleable__control:checked~label.sk-toggleable__label {background-color: #d4ebff;}#sk-container-id-1 div.sk-label input.sk-toggleable__control:checked~label.sk-toggleable__label {background-color: #d4ebff;}#sk-container-id-1 input.sk-hidden--visually {border: 0;clip: rect(1px 1px 1px 1px);clip: rect(1px, 1px, 1px, 1px);height: 1px;margin: -1px;overflow: hidden;padding: 0;position: absolute;width: 1px;}#sk-container-id-1 div.sk-estimator {font-family: monospace;background-color: #f0f8ff;border: 1px dotted black;border-radius: 0.25em;box-sizing: border-box;margin-bottom: 0.5em;}#sk-container-id-1 div.sk-estimator:hover {background-color: #d4ebff;}#sk-container-id-1 div.sk-parallel-item::after {content: \"\";width: 100%;border-bottom: 1px solid gray;flex-grow: 1;}#sk-container-id-1 div.sk-label:hover label.sk-toggleable__label {background-color: #d4ebff;}#sk-container-id-1 div.sk-serial::before {content: \"\";position: absolute;border-left: 1px solid gray;box-sizing: border-box;top: 0;bottom: 0;left: 50%;z-index: 0;}#sk-container-id-1 div.sk-serial {display: flex;flex-direction: column;align-items: center;background-color: white;padding-right: 0.2em;padding-left: 0.2em;position: relative;}#sk-container-id-1 div.sk-item {position: relative;z-index: 1;}#sk-container-id-1 div.sk-parallel {display: flex;align-items: stretch;justify-content: center;background-color: white;position: relative;}#sk-container-id-1 div.sk-item::before, #sk-container-id-1 div.sk-parallel-item::before {content: \"\";position: absolute;border-left: 1px solid gray;box-sizing: border-box;top: 0;bottom: 0;left: 50%;z-index: -1;}#sk-container-id-1 div.sk-parallel-item {display: flex;flex-direction: column;z-index: 1;position: relative;background-color: white;}#sk-container-id-1 div.sk-parallel-item:first-child::after {align-self: flex-end;width: 50%;}#sk-container-id-1 div.sk-parallel-item:last-child::after {align-self: flex-start;width: 50%;}#sk-container-id-1 div.sk-parallel-item:only-child::after {width: 0;}#sk-container-id-1 div.sk-dashed-wrapped {border: 1px dashed gray;margin: 0 0.4em 0.5em 0.4em;box-sizing: border-box;padding-bottom: 0.4em;background-color: white;}#sk-container-id-1 div.sk-label label {font-family: monospace;font-weight: bold;display: inline-block;line-height: 1.2em;}#sk-container-id-1 div.sk-label-container {text-align: center;}#sk-container-id-1 div.sk-container {/* jupyter's `normalize.less` sets `[hidden] { display: none; }` but bootstrap.min.css set `[hidden] { display: none !important; }` so we also need the `!important` here to be able to override the default hidden behavior on the sphinx rendered scikit-learn.org. See: https://github.com/scikit-learn/scikit-learn/issues/21755 */display: inline-block !important;position: relative;}#sk-container-id-1 div.sk-text-repr-fallback {display: none;}</style><div id=\"sk-container-id-1\" class=\"sk-top-container\"><div class=\"sk-text-repr-fallback\"><pre>RandomForestClassifier(random_state=42)</pre><b>In a Jupyter environment, please rerun this cell to show the HTML representation or trust the notebook. <br />On GitHub, the HTML representation is unable to render, please try loading this page with nbviewer.org.</b></div><div class=\"sk-container\" hidden><div class=\"sk-item\"><div class=\"sk-estimator sk-toggleable\"><input class=\"sk-toggleable__control sk-hidden--visually\" id=\"sk-estimator-id-1\" type=\"checkbox\" checked><label for=\"sk-estimator-id-1\" class=\"sk-toggleable__label sk-toggleable__label-arrow\">RandomForestClassifier</label><div class=\"sk-toggleable__content\"><pre>RandomForestClassifier(random_state=42)</pre></div></div></div></div></div>"
            ]
          },
          "metadata": {},
          "execution_count": 3
        }
      ]
    },
    {
      "cell_type": "markdown",
      "source": [
        "# Passo 4: Avaliação do Modelo\n",
        "Avaliação do modelo utilizando os dados de teste."
      ],
      "metadata": {
        "id": "XR5S2eDad4Ib"
      }
    },
    {
      "cell_type": "code",
      "source": [
        "# Predição e avaliação do modelo\n",
        "y_pred = model.predict(X_test_vec)\n",
        "print(classification_report(y_test, y_pred))\n"
      ],
      "metadata": {
        "colab": {
          "base_uri": "https://localhost:8080/"
        },
        "id": "hXi-TrjSd6--",
        "outputId": "87ae656f-60f3-4133-e3a9-eec42eb4981a"
      },
      "execution_count": 4,
      "outputs": [
        {
          "output_type": "stream",
          "name": "stdout",
          "text": [
            "              precision    recall  f1-score   support\n",
            "\n",
            "         não       0.00      0.00      0.00         0\n",
            "         sim       1.00      0.67      0.80         3\n",
            "\n",
            "    accuracy                           0.67         3\n",
            "   macro avg       0.50      0.33      0.40         3\n",
            "weighted avg       1.00      0.67      0.80         3\n",
            "\n"
          ]
        },
        {
          "output_type": "stream",
          "name": "stderr",
          "text": [
            "/usr/local/lib/python3.10/dist-packages/sklearn/metrics/_classification.py:1344: UndefinedMetricWarning: Recall and F-score are ill-defined and being set to 0.0 in labels with no true samples. Use `zero_division` parameter to control this behavior.\n",
            "  _warn_prf(average, modifier, msg_start, len(result))\n",
            "/usr/local/lib/python3.10/dist-packages/sklearn/metrics/_classification.py:1344: UndefinedMetricWarning: Recall and F-score are ill-defined and being set to 0.0 in labels with no true samples. Use `zero_division` parameter to control this behavior.\n",
            "  _warn_prf(average, modifier, msg_start, len(result))\n",
            "/usr/local/lib/python3.10/dist-packages/sklearn/metrics/_classification.py:1344: UndefinedMetricWarning: Recall and F-score are ill-defined and being set to 0.0 in labels with no true samples. Use `zero_division` parameter to control this behavior.\n",
            "  _warn_prf(average, modifier, msg_start, len(result))\n"
          ]
        }
      ]
    },
    {
      "cell_type": "markdown",
      "source": [
        "# Passo 5: Demonstração do Viés\n",
        "Vamos verificar como o modelo classifica novos candidatos com base nos padrões aprendidos."
      ],
      "metadata": {
        "id": "V_sa6_8Dd8T2"
      }
    },
    {
      "cell_type": "code",
      "source": [
        "# Novos candidatos para testar o viés\n",
        "test_candidates = [\n",
        "    {'nome': 'Ana', 'etnia': 'asiático', 'genero': 'feminino', 'experiencia': 5, 'educacao': 'mestrado'},\n",
        "    {'nome': 'Pedro', 'etnia': 'árabe', 'genero': 'masculino', 'experiencia': 4, 'educacao': 'bacharelado'},\n",
        "    {'nome': 'Clara', 'etnia': 'branco', 'genero': 'feminino', 'experiencia': 7, 'educacao': 'mestrado'},\n",
        "    {'nome': 'Hugo', 'etnia': 'hispânico', 'genero': 'masculino', 'experiencia': 6, 'educacao': 'bacharelado'}\n",
        "]\n",
        "\n",
        "# Vetorização dos candidatos de teste\n",
        "test_candidates_vec = vectorizer.transform(test_candidates)\n",
        "\n",
        "# Predição das candidaturas\n",
        "test_predictions = model.predict(test_candidates_vec)\n",
        "\n",
        "# Resultados\n",
        "for candidate, prediction in zip(test_candidates, test_predictions):\n",
        "    print(f'Candidato: {candidate} - Predição de contratação: {prediction}')\n"
      ],
      "metadata": {
        "colab": {
          "base_uri": "https://localhost:8080/"
        },
        "id": "ftK6i8p2eAZl",
        "outputId": "2cf118fc-67c6-4712-9b84-3c0b05f4a62b"
      },
      "execution_count": 5,
      "outputs": [
        {
          "output_type": "stream",
          "name": "stdout",
          "text": [
            "Candidato: {'nome': 'Ana', 'etnia': 'asiático', 'genero': 'feminino', 'experiencia': 5, 'educacao': 'mestrado'} - Predição de contratação: não\n",
            "Candidato: {'nome': 'Pedro', 'etnia': 'árabe', 'genero': 'masculino', 'experiencia': 4, 'educacao': 'bacharelado'} - Predição de contratação: não\n",
            "Candidato: {'nome': 'Clara', 'etnia': 'branco', 'genero': 'feminino', 'experiencia': 7, 'educacao': 'mestrado'} - Predição de contratação: sim\n",
            "Candidato: {'nome': 'Hugo', 'etnia': 'hispânico', 'genero': 'masculino', 'experiencia': 6, 'educacao': 'bacharelado'} - Predição de contratação: não\n"
          ]
        }
      ]
    },
    {
      "cell_type": "markdown",
      "source": [
        "# Análise dos Resultados\n",
        "Este exemplo ilustra como um modelo pode aprender vieses presentes nos dados de treinamento. Por exemplo, se os dados de treinamento têm menos candidatos de determinadas etnias sendo contratados, o modelo pode aprender a associar essas etnias com uma menor probabilidade de contratação, mesmo que isso não reflita a competência real dos candidatos.\n",
        "\n",
        "# Conclusão\n",
        "Este exemplo demonstra como um modelo pode ser enviesado se os dados de treinamento contêm preconceitos implícitos. É crucial garantir que os dados sejam representativos e livres de preconceitos para que os modelos de IA possam fazer previsões justas e precisas. Em contextos de gerenciamento de projetos e outras áreas, é importante aplicar técnicas de mitigação de viés e avaliar continuamente os modelos para detectar e corrigir possíveis vieses."
      ],
      "metadata": {
        "id": "oKdZDVt7eHh1"
      }
    }
  ]
}